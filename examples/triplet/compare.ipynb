{
 "cells": [
  {
   "cell_type": "code",
   "execution_count": 1,
   "metadata": {},
   "outputs": [],
   "source": [
    "import pandas as pd"
   ]
  },
  {
   "cell_type": "code",
   "execution_count": 14,
   "metadata": {},
   "outputs": [
    {
     "data": {
      "text/plain": [
       "0.25466666666666665"
      ]
     },
     "execution_count": 14,
     "metadata": {},
     "output_type": "execute_result"
    }
   ],
   "source": [
    "f1 = pd.read_csv(\"response.csv\", header=None)\n",
    "f2 = pd.read_csv(\"response_flipped_davinci-002.csv\", header=None)\n",
    "\n",
    "f1 = f1.loc[:, 1].tolist()\n",
    "f2 = f2.loc[:, 1].tolist()\n",
    "f1 = [s.lower() for s in f1]\n",
    "f2 = [s.lower() for s in f2]\n",
    "bools = [f1[i] == f2[i] for i in range(3000)]\n",
    "sum(bools) / 3000"
   ]
  }
 ],
 "metadata": {
  "kernelspec": {
   "display_name": "get_responses",
   "language": "python",
   "name": "python3"
  },
  "language_info": {
   "codemirror_mode": {
    "name": "ipython",
    "version": 3
   },
   "file_extension": ".py",
   "mimetype": "text/x-python",
   "name": "python",
   "nbconvert_exporter": "python",
   "pygments_lexer": "ipython3",
   "version": "3.7.12"
  },
  "orig_nbformat": 4
 },
 "nbformat": 4,
 "nbformat_minor": 2
}
