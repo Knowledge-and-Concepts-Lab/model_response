{
 "cells": [
  {
   "cell_type": "code",
   "execution_count": 3,
   "metadata": {},
   "outputs": [],
   "source": [
    "import pandas as pd\n",
    "from io import StringIO\n",
    "import itertools\n",
    "import csv\n"
   ]
  },
  {
   "cell_type": "code",
   "execution_count": 19,
   "metadata": {},
   "outputs": [],
   "source": [
    "df = pd.read_csv(\"../examples/pairwise/animals_data.csv\", usecols=['concept'])\n",
    "data = df['concept'].tolist()\n",
    "\n",
    "# Generate pairwise combinations for each category\n",
    "combinations = list(itertools.product(data, repeat=2))\n",
    "    \n",
    "with open('../examples/pairwise/prompt.csv', 'w', newline='') as csvfile:\n",
    "    csv_writer = csv.writer(csvfile)\n",
    "    \n",
    "    for combination in combinations:\n",
    "        csv_writer.writerow(combination)"
   ]
  },
  {
   "cell_type": "code",
   "execution_count": null,
   "metadata": {},
   "outputs": [],
   "source": []
  }
 ],
 "metadata": {
  "kernelspec": {
   "display_name": "get_responses",
   "language": "python",
   "name": "python3"
  },
  "language_info": {
   "codemirror_mode": {
    "name": "ipython",
    "version": 3
   },
   "file_extension": ".py",
   "mimetype": "text/x-python",
   "name": "python",
   "nbconvert_exporter": "python",
   "pygments_lexer": "ipython3",
   "version": "3.7.12"
  },
  "orig_nbformat": 4,
  "vscode": {
   "interpreter": {
    "hash": "fd6f619416f63f86c59378c78843b6e27090a1377401c8bda8fabb3ad0410c0f"
   }
  }
 },
 "nbformat": 4,
 "nbformat_minor": 2
}
