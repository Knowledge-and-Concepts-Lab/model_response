{
 "cells": [
  {
   "cell_type": "code",
   "execution_count": 1,
   "metadata": {},
   "outputs": [
    {
     "name": "stderr",
     "output_type": "stream",
     "text": [
      "/home/yuxizheng/miniconda3/envs/get_responses/lib/python3.7/site-packages/tqdm/auto.py:21: TqdmWarning: IProgress not found. Please update jupyter and ipywidgets. See https://ipywidgets.readthedocs.io/en/stable/user_install.html\n",
      "  from .autonotebook import tqdm as notebook_tqdm\n",
      "Loading checkpoint shards: 100%|██████████| 3/3 [00:18<00:00,  6.24s/it]\n"
     ]
    }
   ],
   "source": [
    "# from transformers import LlamaForCausalLM, LlamaTokenizer\n",
    "\n",
    "# tokenizer = LlamaTokenizer.from_pretrained(\"/mnt/disk-1/llama_hf_7B\")\n",
    "# model = LlamaForCausalLM.from_pretrained(\"/mnt/disk-1/llama_hf_7B\")\n",
    "\n",
    "import transformers\n",
    "alpaca_model = transformers.AutoModelForCausalLM.from_pretrained(\"/mnt/disk-1/alpaca-7b\")\n",
    "alpaca_tokenizer = transformers.AutoTokenizer.from_pretrained(\"/mnt/disk-1/alpaca-7b\")"
   ]
  },
  {
   "cell_type": "code",
   "execution_count": 24,
   "metadata": {},
   "outputs": [
    {
     "name": "stdout",
     "output_type": "stream",
     "text": [
      "Answer with only one number from 1 to 7, considering 1 as 'extremely dissimilar', 2 as 'very dissimilar', 3 as 'likely dissimilar', 4 as 'neutral', 5 as 'likely similar', 6 as 'very similar', and 7 as 'extremely similar': How similar is Dog and Cat?\n",
      "The answer is 6.\n",
      "\n",
      "Answer: 6.\n",
      "Answer with only one number from 1 to 7, considering 1 as 'extremely dissimilar', 2 as 'very dissimilar', 3 as 'likely dissimilar', 4 as 'neutral', 5 as 'likely similar', 6 as 'very similar', and 7 as 'extremely similar': How similar is Alligator and Cat?\n",
      "The similarity between Alligator and Cat is 5.\n",
      "Similarity score: \n"
     ]
    }
   ],
   "source": [
    "from transformers import pipeline\n",
    "\n",
    "pipe = pipeline('text-generation', model=alpaca_model, tokenizer=alpaca_tokenizer)\n",
    "\n",
    "question = [\"Answer with only one number from 1 to 7, considering 1 as 'extremely dissimilar', 2 as 'very dissimilar', 3 as 'likely dissimilar', 4 as 'neutral', 5 as 'likely similar', 6 as 'very similar', and 7 as 'extremely similar': How similar is Dog and Cat?\",\n",
    "            \"Answer with only one number from 1 to 7, considering 1 as 'extremely dissimilar', 2 as 'very dissimilar', 3 as 'likely dissimilar', 4 as 'neutral', 5 as 'likely similar', 6 as 'very similar', and 7 as 'extremely similar': How similar is Alligator and Cat?\"]\n",
    "\n",
    "# response = pipe(question[0], max_length=100, do_sample=False, temperature=0.1)\n",
    "responses = pipe(question, max_new_tokens=20)\n",
    "responses = [r[0]['generated_text'] for r in responses]\n",
    "\n",
    "for response in responses:\n",
    "    print(response)"
   ]
  }
 ],
 "metadata": {
  "kernelspec": {
   "display_name": "get_responses",
   "language": "python",
   "name": "python3"
  },
  "language_info": {
   "codemirror_mode": {
    "name": "ipython",
    "version": 3
   },
   "file_extension": ".py",
   "mimetype": "text/x-python",
   "name": "python",
   "nbconvert_exporter": "python",
   "pygments_lexer": "ipython3",
   "version": "3.7.12"
  },
  "orig_nbformat": 4
 },
 "nbformat": 4,
 "nbformat_minor": 2
}
