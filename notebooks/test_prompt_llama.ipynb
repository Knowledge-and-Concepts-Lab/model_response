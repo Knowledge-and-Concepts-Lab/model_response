{
 "cells": [
  {
   "cell_type": "code",
   "execution_count": 1,
   "metadata": {},
   "outputs": [
    {
     "name": "stderr",
     "output_type": "stream",
     "text": [
      "/home/yuxizheng/miniconda3/envs/get_responses/lib/python3.7/site-packages/tqdm/auto.py:21: TqdmWarning: IProgress not found. Please update jupyter and ipywidgets. See https://ipywidgets.readthedocs.io/en/stable/user_install.html\n",
      "  from .autonotebook import tqdm as notebook_tqdm\n"
     ]
    }
   ],
   "source": [
    "from typing import Tuple\n",
    "import os\n",
    "import sys\n",
    "import torch\n",
    "import time\n",
    "import json\n",
    "\n",
    "from fairscale.nn.model_parallel.initialize import initialize_model_parallel\n",
    "from llama import ModelArgs, Transformer, Tokenizer, LLaMA"
   ]
  },
  {
   "cell_type": "code",
   "execution_count": 1,
   "metadata": {},
   "outputs": [
    {
     "name": "stderr",
     "output_type": "stream",
     "text": [
      "/home/yuxizheng/miniconda3/envs/get_responses/lib/python3.7/site-packages/tqdm/auto.py:21: TqdmWarning: IProgress not found. Please update jupyter and ipywidgets. See https://ipywidgets.readthedocs.io/en/stable/user_install.html\n",
      "  from .autonotebook import tqdm as notebook_tqdm\n",
      "Loading checkpoint shards: 100%|██████████| 2/2 [00:10<00:00,  5.07s/it]\n"
     ]
    }
   ],
   "source": [
    "from transformers import LlamaForCausalLM, LlamaTokenizer\n",
    "\n",
    "tokenizer = LlamaTokenizer.from_pretrained(\"/mnt/disk-1/llama_hf_7B\")\n",
    "model = LlamaForCausalLM.from_pretrained(\"/mnt/disk-1/llama_hf_7B\")"
   ]
  },
  {
   "cell_type": "code",
   "execution_count": 5,
   "metadata": {},
   "outputs": [],
   "source": [
    "prompts = [\"Answer with only one number from 1 to 7, considering 1 as the least similar and 7 as the most similar: How similar is Alligator and Alligator?\",\n",
    "           \"Answer with only one number from 1 to 7, considering 1 as the least similar and 7 as the most similar: How similar is Alligator and Cat?\",\n",
    "           \"Answer with only one number from 1 to 7, considering 1 as the least similar and 7 as the most similar: How similar is Dog and Cat?\"]"
   ]
  },
  {
   "cell_type": "code",
   "execution_count": 11,
   "metadata": {},
   "outputs": [
    {
     "name": "stdout",
     "output_type": "stream",
     "text": [
      "Answer with only one number from 1 to 7, considering 1 as the least similar and 7 as the most similar: How similar is Dog and Cat?\n",
      "15.3853.5278.29\n"
     ]
    }
   ],
   "source": [
    "from transformers import pipeline\n",
    "\n",
    "# Create a text generation pipeline\n",
    "text_generator = pipeline('text-generation', model=model, tokenizer=tokenizer)\n",
    "\n",
    "# Your input question\n",
    "question = \"Answer with only one number from 1 to 7, considering 1 as the least similar and 7 as the most similar: How similar is Dog and Cat?\"\n",
    "\n",
    "# Generate a response\n",
    "response = text_generator(question, max_length=50, do_sample=True, temperature=0.7)\n",
    "\n",
    "print(response[0]['generated_text'])"
   ]
  }
 ],
 "metadata": {
  "kernelspec": {
   "display_name": "get_responses",
   "language": "python",
   "name": "python3"
  },
  "language_info": {
   "codemirror_mode": {
    "name": "ipython",
    "version": 3
   },
   "file_extension": ".py",
   "mimetype": "text/x-python",
   "name": "python",
   "nbconvert_exporter": "python",
   "pygments_lexer": "ipython3",
   "version": "3.7.12"
  },
  "orig_nbformat": 4
 },
 "nbformat": 4,
 "nbformat_minor": 2
}
