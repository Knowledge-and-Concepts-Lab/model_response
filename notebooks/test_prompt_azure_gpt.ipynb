{
 "cells": [
  {
   "cell_type": "code",
   "execution_count": 3,
   "metadata": {},
   "outputs": [
    {
     "name": "stderr",
     "output_type": "stream",
     "text": [
      "/home/yuxizheng/miniconda3/envs/get_responses/lib/python3.8/site-packages/tqdm/auto.py:21: TqdmWarning: IProgress not found. Please update jupyter and ipywidgets. See https://ipywidgets.readthedocs.io/en/stable/user_install.html\n",
      "  from .autonotebook import tqdm as notebook_tqdm\n"
     ]
    }
   ],
   "source": [
    "import numpy as np\n",
    "import itertools\n",
    "import warnings\n",
    "import logging\n",
    "from datasets import Dataset\n",
    "from transformers.pipelines.pt_utils import KeyDataset\n",
    "from tqdm import tqdm\n",
    "import os\n",
    "from pattern.en import pluralize\n",
    "import pickle5 as pickle\n",
    "\n",
    "import csv\n",
    "import time\n",
    "from time import sleep\n",
    "from pathlib import Path\n",
    "from joblib import Parallel, delayed\n",
    "\n",
    "import torch\n",
    "import openai\n",
    "import transformers\n",
    "from accelerate import Accelerator"
   ]
  },
  {
   "cell_type": "code",
   "execution_count": 17,
   "metadata": {},
   "outputs": [],
   "source": [
    "def timer(start_time):\n",
    "    \"\"\"the helper function for running time\"\"\"\n",
    "    minutes, seconds = divmod(time.time() - start_time, 60)\n",
    "    return f\"{int(minutes)} mins {int(seconds)} sec\"\n",
    "\n",
    "def send_gpt_prompt(batch, model_type, prompt_and_response, temperature, max_tokens):\n",
    "    \"\"\"helper function to send a whole to chatgpt\"\"\"\n",
    "    for prompt in batch:\n",
    "        succeed = False\n",
    "        completion = None\n",
    "        while not succeed:\n",
    "            try:\n",
    "                completion = openai.Completion.create(\n",
    "                    engine = model_type,\n",
    "                    prompt = prompt,\n",
    "                    max_tokens = max_tokens,\n",
    "                    n = 1,\n",
    "                    # temperature = temperature,\n",
    "                )\n",
    "                succeed = True\n",
    "            except Exception as e:\n",
    "                print(\"GPT sleeping...\")\n",
    "                sleep(60)\n",
    "        assert completion is not None\n",
    "        response = completion['choices'][0]['text'].replace('\\n', ' ').replace(' .', '.').strip()\n",
    "        prompt_and_response.append([prompt, response, response.split(\" \")[-1][:-1]])\n",
    "        \n",
    "def generate_responses_gpt(batches, model_type, output_path, temperature, max_tokens):\n",
    "    start_time = time.time()\n",
    "    \n",
    "    openai.api_key = Path(f\"../AZURE_OPENAI_KEY\").read_text()\n",
    "    openai.api_base = Path(f\"../AZURE_OPENAI_ENDPOINT\").read_text()\n",
    "    openai.api_type = 'azure'\n",
    "    openai.api_version = '2023-05-15'\n",
    "        \n",
    "    prompt_and_response = []\n",
    "    \n",
    "    # can change n_jobs accoding to the size of dataset\n",
    "    Parallel(n_jobs = 10, require='sharedmem')(delayed(send_gpt_prompt)(batch, model_type, prompt_and_response, temperature, max_tokens) for batch in batches)\n",
    "    Parallel(n_jobs = 10, require='sharedmem')(\n",
    "        delayed(send_gpt_prompt)(\n",
    "            batch, model_type, prompt_and_response, temperature, max_tokens\n",
    "        ) for batch in batches\n",
    "    )\n",
    "    \n",
    "    print(f'Time taken to generate responses is {timer(start_time)}s')\n",
    "    \n",
    "    # write_responses(prompt_and_response, output_path, 'w')\n",
    "    \n",
    "    return prompt_and_response"
   ]
  },
  {
   "cell_type": "code",
   "execution_count": 19,
   "metadata": {},
   "outputs": [
    {
     "name": "stdout",
     "output_type": "stream",
     "text": [
      "Time taken to generate responses is 0 mins 2 secs\n"
     ]
    },
    {
     "data": {
      "text/plain": [
       "[[\"Answer using only one word - Alligator or Spanner and not Shovel. Which is more similar in meaning to Shovel? End your answer with, 'The answer is '. Let's think step by step.\",\n",
       "  'The answer is alligator.',\n",
       "  'alligator'],\n",
       " [\"Answer using only one word - Gecko or Salamander and not Alligator. Which is more similar in meaning to Alligator? End your answer with, 'The answer is '. Let's think step by step.\",\n",
       "  'Gecko  The answer is gecko.',\n",
       "  'gecko'],\n",
       " [\"Answer using only one word - Alligator or Spanner and not Shovel. Which is more similar in meaning to Shovel? End your answer with, 'The answer is '. Let's think step by step.\",\n",
       "  'The answer is Alligator.',\n",
       "  'Alligator'],\n",
       " [\"Answer using only one word - Gecko or Salamander and not Alligator. Which is more similar in meaning to Alligator? End your answer with, 'The answer is '. Let's think step by step.\",\n",
       "  'Alligator  The first thing that comes to mind when thinking about the word alligator is that it is a large reptile. This immediately eliminates gecko from being the more similar word in meaning, as geckos are small lizards. Therefore, the word that is more similar in meaning to alligator must be salamander.  The answer is salamander.',\n",
       "  'salamander']]"
      ]
     },
     "execution_count": 19,
     "metadata": {},
     "output_type": "execute_result"
    }
   ],
   "source": [
    "batches = [[\n",
    "    \"Answer using only one word - Alligator or Spanner and not Shovel. Which is more similar in meaning to Shovel? End your answer with, 'The answer is '. Let's think step by step.\",\n",
    "    \"Answer using only one word - Gecko or Salamander and not Alligator. Which is more similar in meaning to Alligator? End your answer with, 'The answer is '. Let's think step by step.\"\n",
    "]]\n",
    "\n",
    "generate_responses_gpt(batches, \"gpt-semantics\", './test.csv', 0.7, 256)"
   ]
  },
  {
   "cell_type": "code",
   "execution_count": 20,
   "metadata": {},
   "outputs": [
    {
     "name": "stdout",
     "output_type": "stream",
     "text": [
      "Time taken to generate responses is 0 mins 4 secs\n"
     ]
    },
    {
     "data": {
      "text/plain": [
       "[[\"Answer using only one word - Alligator or Spanner and not Shovel. Which is more similar in meaning to Shovel? End your answer with, 'The answer is '. Let's think step by step.\",\n",
       "  'A shovel is a tool that is typically used for moving dirt or for digging. A spanner is also a type of tool, often used for mechanical construction. The answer is Spanner.',\n",
       "  'Spanner'],\n",
       " [\"Answer using only one word - Gecko or Salamander and not Alligator. Which is more similar in meaning to Alligator? End your answer with, 'The answer is '. Let's think step by step.\",\n",
       "  \"The word 'alligator' is usually associated with a reptile, so the other two words must also be reptiles. 'Salamander' is a type of amphibian and 'gecko' is a type of lizard. Therefore, the answer is Gecko. The answer is Gecko.\",\n",
       "  'Gecko'],\n",
       " [\"Answer using only one word - Alligator or Spanner and not Shovel. Which is more similar in meaning to Shovel? End your answer with, 'The answer is '. Let's think step by step.\",\n",
       "  'The answer is Spanner.',\n",
       "  'Spanner'],\n",
       " [\"Answer using only one word - Gecko or Salamander and not Alligator. Which is more similar in meaning to Alligator? End your answer with, 'The answer is '. Let's think step by step.\",\n",
       "  'Alligator is a reptile, so any reptile would be a similar meaning. Thus, the answer is Gecko.',\n",
       "  'Gecko']]"
      ]
     },
     "execution_count": 20,
     "metadata": {},
     "output_type": "execute_result"
    }
   ],
   "source": [
    "generate_responses_gpt(batches, \"text-davinci-003\", './test.csv', 0.7, 256)"
   ]
  }
 ],
 "metadata": {
  "kernelspec": {
   "display_name": "get_responses",
   "language": "python",
   "name": "python3"
  },
  "language_info": {
   "codemirror_mode": {
    "name": "ipython",
    "version": 3
   },
   "file_extension": ".py",
   "mimetype": "text/x-python",
   "name": "python",
   "nbconvert_exporter": "python",
   "pygments_lexer": "ipython3",
   "version": "3.8.15"
  },
  "orig_nbformat": 4
 },
 "nbformat": 4,
 "nbformat_minor": 2
}
